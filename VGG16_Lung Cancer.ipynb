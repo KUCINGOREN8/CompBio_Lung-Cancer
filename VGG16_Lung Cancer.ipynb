{
 "cells": [
  {
   "cell_type": "code",
   "execution_count": null,
   "metadata": {
    "_cell_guid": "b1076dfc-b9ad-4769-8c92-a6c4dae69d19",
    "_kg_hide-output": true,
    "_uuid": "8f2839f25d086af736a60e9eeb907d3b93b6e0e5",
    "execution": {
     "iopub.execute_input": "2024-06-01T08:19:24.294512Z",
     "iopub.status.busy": "2024-06-01T08:19:24.294010Z",
     "iopub.status.idle": "2024-06-01T08:19:24.907249Z",
     "shell.execute_reply": "2024-06-01T08:19:24.902128Z",
     "shell.execute_reply.started": "2024-06-01T08:19:24.294406Z"
    },
    "trusted": true
   },
   "outputs": [],
   "source": [
    "# This Python 3 environment comes with many helpful analytics libraries installed\n",
    "# It is defined by the kaggle/python Docker image: https://github.com/kaggle/docker-python\n",
    "# For example, here's several helpful packages to load\n",
    "\n",
    "import numpy as np # linear algebra\n",
    "import pandas as pd # data processing, CSV file I/O (e.g. pd.read_csv)"
   ]
  },
  {
   "cell_type": "code",
   "execution_count": null,
   "metadata": {
    "execution": {
     "iopub.execute_input": "2024-06-01T08:19:24.909450Z",
     "iopub.status.busy": "2024-06-01T08:19:24.909033Z",
     "iopub.status.idle": "2024-06-01T08:19:29.711108Z",
     "shell.execute_reply": "2024-06-01T08:19:29.710077Z",
     "shell.execute_reply.started": "2024-06-01T08:19:24.909407Z"
    },
    "trusted": true
   },
   "outputs": [],
   "source": [
    "# importing libraries\n",
    "\n",
    "import tensorflow as tf\n",
    "from tensorflow.keras.layers import Input, Lambda, Dense, Flatten\n",
    "from tensorflow.keras.models import Model\n",
    "from tensorflow.keras.applications.vgg16 import VGG16\n",
    "from tensorflow.keras.applications.vgg16 import preprocess_input\n",
    "from tensorflow.keras.preprocessing import image\n",
    "from tensorflow.keras.preprocessing.image import ImageDataGenerator, load_img\n",
    "import matplotlib.pyplot as plt\n",
    "from glob import glob"
   ]
  },
  {
   "cell_type": "code",
   "execution_count": null,
   "metadata": {
    "execution": {
     "iopub.execute_input": "2024-06-01T08:19:29.713302Z",
     "iopub.status.busy": "2024-06-01T08:19:29.713010Z",
     "iopub.status.idle": "2024-06-01T08:19:29.717339Z",
     "shell.execute_reply": "2024-06-01T08:19:29.716210Z",
     "shell.execute_reply.started": "2024-06-01T08:19:29.713272Z"
    },
    "trusted": true
   },
   "outputs": [],
   "source": [
    "image_set = 'C:/Users/Bryan/Documents/Semester 4/CompBio/Codes/Datasets'"
   ]
  },
  {
   "cell_type": "code",
   "execution_count": null,
   "metadata": {
    "execution": {
     "iopub.execute_input": "2024-06-01T08:19:29.719218Z",
     "iopub.status.busy": "2024-06-01T08:19:29.718945Z",
     "iopub.status.idle": "2024-06-01T08:19:29.936789Z",
     "shell.execute_reply": "2024-06-01T08:19:29.935918Z",
     "shell.execute_reply.started": "2024-06-01T08:19:29.719185Z"
    },
    "trusted": true
   },
   "outputs": [],
   "source": [
    "SIZE_X = SIZE_Y = 224\n",
    "\n",
    "datagen = tf.keras.preprocessing.image.ImageDataGenerator(validation_split=0.2)\n",
    "\n",
    "train_set = datagen.flow_from_directory(\n",
    "    image_set,\n",
    "    class_mode=\"categorical\",\n",
    "    target_size=(SIZE_X, SIZE_Y),\n",
    "    color_mode=\"rgb\",\n",
    "    batch_size=32,\n",
    "    shuffle=True, \n",
    "    subset='training',\n",
    "    seed=42\n",
    ")\n",
    "\n",
    "validate_set = datagen.flow_from_directory(\n",
    "    image_set,\n",
    "    class_mode=\"categorical\",\n",
    "    target_size=(SIZE_X, SIZE_Y),\n",
    "    color_mode=\"rgb\",\n",
    "    batch_size=32,\n",
    "    shuffle=False,\n",
    "    subset='validation',\n",
    "    seed=42\n",
    ")"
   ]
  },
  {
   "cell_type": "code",
   "execution_count": null,
   "metadata": {
    "execution": {
     "iopub.execute_input": "2024-06-01T08:19:29.938160Z",
     "iopub.status.busy": "2024-06-01T08:19:29.937887Z",
     "iopub.status.idle": "2024-06-01T08:19:29.941921Z",
     "shell.execute_reply": "2024-06-01T08:19:29.940953Z",
     "shell.execute_reply.started": "2024-06-01T08:19:29.938132Z"
    },
    "trusted": true
   },
   "outputs": [],
   "source": [
    "IMAGE_SIZE = [224, 224]"
   ]
  },
  {
   "cell_type": "code",
   "execution_count": null,
   "metadata": {
    "execution": {
     "iopub.execute_input": "2024-06-01T08:20:17.678686Z",
     "iopub.status.busy": "2024-06-01T08:20:17.678302Z",
     "iopub.status.idle": "2024-06-01T08:20:20.228055Z",
     "shell.execute_reply": "2024-06-01T08:20:20.227154Z",
     "shell.execute_reply.started": "2024-06-01T08:20:17.678646Z"
    },
    "trusted": true
   },
   "outputs": [],
   "source": [
    "vgg = VGG16(input_shape=IMAGE_SIZE + [3], weights='imagenet', include_top=False)"
   ]
  },
  {
   "cell_type": "code",
   "execution_count": null,
   "metadata": {
    "execution": {
     "iopub.execute_input": "2024-06-01T08:20:32.280528Z",
     "iopub.status.busy": "2024-06-01T08:20:32.280157Z",
     "iopub.status.idle": "2024-06-01T08:20:32.285182Z",
     "shell.execute_reply": "2024-06-01T08:20:32.284288Z",
     "shell.execute_reply.started": "2024-06-01T08:20:32.280497Z"
    },
    "trusted": true
   },
   "outputs": [],
   "source": [
    "# don't train existing weights\n",
    "for layer in vgg.layers:\n",
    "    layer.trainable = False"
   ]
  },
  {
   "cell_type": "code",
   "execution_count": null,
   "metadata": {
    "execution": {
     "iopub.execute_input": "2024-06-01T08:20:39.172453Z",
     "iopub.status.busy": "2024-06-01T08:20:39.172110Z",
     "iopub.status.idle": "2024-06-01T08:20:39.204107Z",
     "shell.execute_reply": "2024-06-01T08:20:39.203229Z",
     "shell.execute_reply.started": "2024-06-01T08:20:39.172425Z"
    },
    "trusted": true
   },
   "outputs": [],
   "source": [
    "flatten = Flatten()(vgg.output)\n",
    "dense = Dense(256, activation = 'relu')(flatten)\n",
    "dense = Dense(128, activation = 'relu')(dense)\n",
    "prediction = Dense(3, activation = 'softmax')(dense)"
   ]
  },
  {
   "cell_type": "code",
   "execution_count": null,
   "metadata": {
    "execution": {
     "iopub.execute_input": "2024-06-01T08:20:55.954234Z",
     "iopub.status.busy": "2024-06-01T08:20:55.953873Z",
     "iopub.status.idle": "2024-06-01T08:20:55.964875Z",
     "shell.execute_reply": "2024-06-01T08:20:55.963741Z",
     "shell.execute_reply.started": "2024-06-01T08:20:55.954202Z"
    },
    "trusted": true
   },
   "outputs": [],
   "source": [
    "# creating a model\n",
    "model = Model(inputs = vgg.input, outputs = prediction)"
   ]
  },
  {
   "cell_type": "code",
   "execution_count": null,
   "metadata": {
    "execution": {
     "iopub.execute_input": "2024-06-01T08:20:57.003005Z",
     "iopub.status.busy": "2024-06-01T08:20:57.002632Z",
     "iopub.status.idle": "2024-06-01T08:20:57.016248Z",
     "shell.execute_reply": "2024-06-01T08:20:57.015063Z",
     "shell.execute_reply.started": "2024-06-01T08:20:57.002969Z"
    },
    "trusted": true
   },
   "outputs": [],
   "source": [
    "model.summary()"
   ]
  },
  {
   "cell_type": "code",
   "execution_count": null,
   "metadata": {
    "execution": {
     "iopub.execute_input": "2024-06-01T08:21:06.384321Z",
     "iopub.status.busy": "2024-06-01T08:21:06.383966Z",
     "iopub.status.idle": "2024-06-01T08:21:07.004153Z",
     "shell.execute_reply": "2024-06-01T08:21:07.003079Z",
     "shell.execute_reply.started": "2024-06-01T08:21:06.384293Z"
    },
    "trusted": true
   },
   "outputs": [],
   "source": [
    "# output dari cell ini di clear karena filenya terlalu besar.\n",
    "\n",
    "from tensorflow.keras.utils import plot_model\n",
    "\n",
    "# Plot the model architecture\n",
    "plot_model(model, to_file='model_architecture.png', show_shapes=True, show_layer_names=True)"
   ]
  },
  {
   "cell_type": "code",
   "execution_count": null,
   "metadata": {
    "execution": {
     "iopub.execute_input": "2024-06-01T08:21:22.177304Z",
     "iopub.status.busy": "2024-06-01T08:21:22.176956Z",
     "iopub.status.idle": "2024-06-01T08:21:22.198314Z",
     "shell.execute_reply": "2024-06-01T08:21:22.197503Z",
     "shell.execute_reply.started": "2024-06-01T08:21:22.177274Z"
    },
    "trusted": true
   },
   "outputs": [],
   "source": [
    "# COMPILING THE MODEL\n",
    "model.compile(loss = 'categorical_crossentropy', optimizer = 'adam', metrics = ['accuracy'])"
   ]
  },
  {
   "cell_type": "code",
   "execution_count": null,
   "metadata": {
    "execution": {
     "iopub.execute_input": "2024-06-01T08:21:56.012929Z",
     "iopub.status.busy": "2024-06-01T08:21:56.012550Z",
     "iopub.status.idle": "2024-06-01T08:26:31.512528Z",
     "shell.execute_reply": "2024-06-01T08:26:31.511579Z",
     "shell.execute_reply.started": "2024-06-01T08:21:56.012900Z"
    },
    "trusted": true
   },
   "outputs": [],
   "source": [
    "# executing the model\n",
    "history = model.fit(train_set, validation_data = validate_set, epochs = 30, verbose = 1)"
   ]
  },
  {
   "cell_type": "code",
   "execution_count": null,
   "metadata": {
    "execution": {
     "iopub.execute_input": "2024-06-01T08:26:31.514671Z",
     "iopub.status.busy": "2024-06-01T08:26:31.514331Z",
     "iopub.status.idle": "2024-06-01T08:26:31.880137Z",
     "shell.execute_reply": "2024-06-01T08:26:31.879215Z",
     "shell.execute_reply.started": "2024-06-01T08:26:31.514639Z"
    },
    "trusted": true
   },
   "outputs": [],
   "source": [
    "# plotting the loss\n",
    "plt.plot(history.history['loss'],label = 'train_loss')\n",
    "plt.plot(history.history['val_loss'], label = 'testing_loss')\n",
    "plt.title('loss')\n",
    "plt.legend()\n",
    "plt.show()"
   ]
  },
  {
   "cell_type": "code",
   "execution_count": null,
   "metadata": {
    "execution": {
     "iopub.execute_input": "2024-06-01T08:26:31.882671Z",
     "iopub.status.busy": "2024-06-01T08:26:31.882252Z",
     "iopub.status.idle": "2024-06-01T08:26:32.050961Z",
     "shell.execute_reply": "2024-06-01T08:26:32.050079Z",
     "shell.execute_reply.started": "2024-06-01T08:26:31.882630Z"
    },
    "trusted": true
   },
   "outputs": [],
   "source": [
    "# Both Validation and Training accuracy is shown here\n",
    "plt.plot(history.history['accuracy'], label='training_accuracy')\n",
    "plt.plot(history.history['val_accuracy'], label='validation accuracy')\n",
    "plt.title('Accuracy')\n",
    "plt.legend()\n",
    "plt.show()"
   ]
  },
  {
   "cell_type": "code",
   "execution_count": null,
   "metadata": {
    "execution": {
     "iopub.execute_input": "2024-06-01T08:26:32.052837Z",
     "iopub.status.busy": "2024-06-01T08:26:32.052473Z",
     "iopub.status.idle": "2024-06-01T08:26:34.652678Z",
     "shell.execute_reply": "2024-06-01T08:26:34.651739Z",
     "shell.execute_reply.started": "2024-06-01T08:26:32.052805Z"
    },
    "trusted": true
   },
   "outputs": [],
   "source": [
    "# CHECKING THE CONFUSION MATRIX\n",
    "from sklearn.metrics import classification_report, confusion_matrix, f1_score\n",
    "\n",
    "Y_pred = model.predict(validate_set)\n",
    "y_pred = np.argmax(Y_pred, axis = 1)\n",
    "print('Confusion Matrix')\n",
    "conf_matrix = confusion_matrix(validate_set.classes, y_pred)\n",
    "print(conf_matrix)\n",
    "print('Classification Report')\n",
    "target_names = ['aca', 'n', 'scc']\n",
    "print(classification_report(validate_set.classes, y_pred, target_names=target_names))"
   ]
  },
  {
   "cell_type": "code",
   "execution_count": null,
   "metadata": {
    "execution": {
     "iopub.execute_input": "2024-06-01T08:26:34.654243Z",
     "iopub.status.busy": "2024-06-01T08:26:34.653945Z",
     "iopub.status.idle": "2024-06-01T08:26:34.988650Z",
     "shell.execute_reply": "2024-06-01T08:26:34.987691Z",
     "shell.execute_reply.started": "2024-06-01T08:26:34.654214Z"
    },
    "trusted": true
   },
   "outputs": [],
   "source": [
    "# PLOTTING THE HEATMAP FOR CONFUSION MATRIX\n",
    "import seaborn as sns\n",
    "\n",
    "plt.figure(figsize=(8, 6))\n",
    "sns.heatmap(conf_matrix, annot=True, fmt='d', cmap='Blues', xticklabels=target_names, yticklabels=target_names)\n",
    "plt.xlabel('Predicted')\n",
    "plt.ylabel('True')\n",
    "plt.title('Confusion Matrix')\n",
    "plt.show()"
   ]
  },
  {
   "cell_type": "code",
   "execution_count": null,
   "metadata": {},
   "outputs": [],
   "source": []
  }
 ],
 "metadata": {
  "kaggle": {
   "accelerator": "gpu",
   "dataSources": [
    {
     "datasetId": 672399,
     "sourceId": 1183191,
     "sourceType": "datasetVersion"
    }
   ],
   "dockerImageVersionId": 30120,
   "isGpuEnabled": true,
   "isInternetEnabled": true,
   "language": "python",
   "sourceType": "notebook"
  },
  "kernelspec": {
   "display_name": "Python (bersihenv)",
   "language": "python",
   "name": "bersihenv"
  },
  "language_info": {
   "codemirror_mode": {
    "name": "ipython",
    "version": 3
   },
   "file_extension": ".py",
   "mimetype": "text/x-python",
   "name": "python",
   "nbconvert_exporter": "python",
   "pygments_lexer": "ipython3",
   "version": "3.9.21"
  }
 },
 "nbformat": 4,
 "nbformat_minor": 4
}
